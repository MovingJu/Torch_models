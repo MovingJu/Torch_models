{
 "cells": [
  {
   "cell_type": "markdown",
   "id": "b35602cd",
   "metadata": {},
   "source": [
    "# nn.Linear 계층 예제"
   ]
  },
  {
   "cell_type": "code",
   "execution_count": 1,
   "id": "9d826037",
   "metadata": {},
   "outputs": [],
   "source": [
    "import torch"
   ]
  },
  {
   "cell_type": "code",
   "execution_count": 2,
   "id": "2a22e424",
   "metadata": {},
   "outputs": [
    {
     "name": "stdout",
     "output_type": "stream",
     "text": [
      "tensor([[-1.8052,  0.8601,  0.8150,  ...,  0.1917,  1.9201,  0.4581],\n",
      "        [-0.3034, -1.5762, -0.2918,  ..., -0.1858, -0.9655, -1.2019],\n",
      "        [ 0.8989,  0.3769,  0.4177,  ..., -0.0222, -0.0823,  0.1501],\n",
      "        ...,\n",
      "        [ 1.0025, -0.0204,  2.2647,  ..., -0.5829, -1.4042, -0.1616],\n",
      "        [-1.5821,  0.4286, -0.3019,  ...,  0.7210,  0.6536,  0.9861],\n",
      "        [-0.5618, -0.8114, -1.2468,  ..., -0.2902, -0.2709,  0.2488]])\n",
      "Linear(in_features=20, out_features=30, bias=True)\n",
      "tensor([[ 0.7298, -0.1135,  0.2076,  ..., -0.1203, -0.6609,  0.1101],\n",
      "        [ 0.0741, -0.2795, -0.3650,  ...,  0.4492,  0.5529, -0.8851],\n",
      "        [ 0.0426, -0.0572,  0.2257,  ..., -0.1590, -0.3192, -0.1740],\n",
      "        ...,\n",
      "        [-0.2099,  1.5123,  0.6115,  ..., -0.3366,  1.9055,  0.1599],\n",
      "        [ 0.0783,  0.0580, -0.2532,  ...,  0.4000, -0.9352,  0.0887],\n",
      "        [ 0.6908,  1.2145,  0.4226,  ...,  0.1927, -0.3870,  0.5431]],\n",
      "       grad_fn=<AddmmBackward0>)\n",
      "torch.Size([128, 30])\n"
     ]
    }
   ],
   "source": [
    "import torch.nn as nn\n",
    "\n",
    "Input = torch.randn(128, 20)\n",
    "print(Input)\n",
    "\n",
    "m = nn.Linear(20, 30)\n",
    "print(m)\n",
    "\n",
    "output = m(Input)\n",
    "print(output)\n",
    "print(output.size())"
   ]
  },
  {
   "cell_type": "markdown",
   "id": "e855f981",
   "metadata": {},
   "source": [
    "# nn.Conv2d"
   ]
  },
  {
   "cell_type": "code",
   "execution_count": 3,
   "id": "6ae047b5",
   "metadata": {},
   "outputs": [
    {
     "name": "stdout",
     "output_type": "stream",
     "text": [
      "torch.Size([20, 16, 50, 100])\n"
     ]
    }
   ],
   "source": [
    "Input = torch.randn(20, 16, 50, 100)\n",
    "print(Input.size())"
   ]
  },
  {
   "cell_type": "code",
   "execution_count": 4,
   "id": "9b69d4df",
   "metadata": {},
   "outputs": [
    {
     "name": "stdout",
     "output_type": "stream",
     "text": [
      "Conv2d(16, 33, kernel_size=(3, 5), stride=(2, 1), padding=(4, 2), dilation=(3, 1))\n"
     ]
    }
   ],
   "source": [
    "m = nn.Conv2d(16, 33, 3, stride=2)\n",
    "m = nn.Conv2d(16, 33, (3, 5), stride=(2, 1), padding=(4, 2))\n",
    "m = nn.Conv2d(16, 33, (3, 5), stride=(2, 1), padding=(4, 2), dilation=(3, 1))\n",
    "print(m)"
   ]
  },
  {
   "cell_type": "code",
   "execution_count": 5,
   "id": "65a5c3ba",
   "metadata": {},
   "outputs": [
    {
     "name": "stdout",
     "output_type": "stream",
     "text": [
      "torch.Size([20, 33, 26, 100])\n"
     ]
    }
   ],
   "source": [
    "output = m(Input)\n",
    "print(output.size())"
   ]
  },
  {
   "cell_type": "code",
   "execution_count": 6,
   "id": "97a26cc8",
   "metadata": {},
   "outputs": [
    {
     "data": {
      "text/plain": [
       "Conv2d(1, 20, kernel_size=(5, 5), stride=(1, 1))"
      ]
     },
     "execution_count": 6,
     "metadata": {},
     "output_type": "execute_result"
    }
   ],
   "source": [
    "layer = nn.Conv2d(1, 20, 5, 1)\n",
    "layer"
   ]
  },
  {
   "cell_type": "code",
   "execution_count": 7,
   "id": "56a4ee6b",
   "metadata": {},
   "outputs": [
    {
     "data": {
      "text/plain": [
       "torch.Size([20, 1, 5, 5])"
      ]
     },
     "execution_count": 7,
     "metadata": {},
     "output_type": "execute_result"
    }
   ],
   "source": [
    "weight = layer.weight\n",
    "weight.shape"
   ]
  },
  {
   "cell_type": "code",
   "execution_count": 8,
   "id": "bba715cc",
   "metadata": {},
   "outputs": [
    {
     "data": {
      "text/plain": [
       "(20, 1, 5, 5)"
      ]
     },
     "execution_count": 8,
     "metadata": {},
     "output_type": "execute_result"
    }
   ],
   "source": [
    "import numpy as np\n",
    "\n",
    "weight = weight.detach()\n",
    "weight = weight.numpy()\n",
    "weight.shape"
   ]
  },
  {
   "cell_type": "code",
   "execution_count": 9,
   "id": "23daf0ef",
   "metadata": {},
   "outputs": [
    {
     "data": {
      "image/png": "[encoded data removed]",
      "text/plain": [
       "<Figure size 640x480 with 2 Axes>"
      ]
     },
     "metadata": {},
     "output_type": "display_data"
    }
   ],
   "source": [
    "import matplotlib.pyplot as plt\n",
    "\n",
    "plt.imshow(weight[0, 0, :, :], \"jet\")\n",
    "plt.colorbar()\n",
    "plt.show()"
   ]
  },
  {
   "cell_type": "markdown",
   "id": "537f4636",
   "metadata": {},
   "source": [
    "# 모델 정의"
   ]
  },
  {
   "cell_type": "markdown",
   "id": "4645dfd5",
   "metadata": {},
   "source": [
    "- `nn.Module`을 상속받는 클래스를 정의한다.\n",
    "- `__init__()` : 모델에서 사용될 모듈과 활성화 함수 등을 정의한다.\n",
    "- `forward()` : 모델에서 실행되어야 하는 연산을 정의한다."
   ]
  },
  {
   "cell_type": "code",
   "execution_count": 10,
   "id": "eb2b01b0",
   "metadata": {},
   "outputs": [],
   "source": [
    "class Model(nn.Module):\n",
    "    def __init__(self, inputs) -> None:\n",
    "        super(Model, self).__init__()\n",
    "        self.layer = nn.Linear(inputs, 1)\n",
    "        self.activation = nn.Sigmoid()\n",
    "\n",
    "    def forward(self, x):\n",
    "        x = self.layer(x)\n",
    "        x = self.activation(x)\n",
    "        return x"
   ]
  },
  {
   "cell_type": "code",
   "execution_count": 11,
   "id": "bdd54481",
   "metadata": {},
   "outputs": [
    {
     "name": "stdout",
     "output_type": "stream",
     "text": [
      "[Linear(in_features=1, out_features=1, bias=True), Sigmoid()]\n",
      "[Model(\n",
      "  (layer): Linear(in_features=1, out_features=1, bias=True)\n",
      "  (activation): Sigmoid()\n",
      "), Linear(in_features=1, out_features=1, bias=True), Sigmoid()]\n"
     ]
    }
   ],
   "source": [
    "model = Model(1)\n",
    "print(list(model.children()))\n",
    "print(list(model.modules()))"
   ]
  },
  {
   "cell_type": "code",
   "execution_count": 12,
   "id": "ccdcf108",
   "metadata": {},
   "outputs": [],
   "source": [
    "class Model(nn.Module):\n",
    "    def __init__(self):\n",
    "        super(Model, self).__init__()\n",
    "        self.layer1 = nn.Sequential(\n",
    "            nn.Conv2d(3, 64, 5, 1),\n",
    "            nn.ReLU(inplace=True),\n",
    "            nn.MaxPool2d(2)\n",
    "        )\n",
    "        self.layer2 = nn.Sequential(\n",
    "            nn.Conv2d(64, 30, 5),\n",
    "            nn.ReLU(inplace=True),\n",
    "            nn.MaxPool2d(2)\n",
    "        )\n",
    "        self.layer3 = nn.Sequential(\n",
    "            nn.Linear(30*5*5, 10, bias=True),\n",
    "            nn.ReLU(inplace=True)\n",
    "        )\n",
    "    \n",
    "    def forward(self, x):\n",
    "        x = self.layer1(x)\n",
    "        x = self.layer2(x)\n",
    "        x = x.view(x.shape[0], -1)\n",
    "        x = self.layer3(x)\n",
    "        return x"
   ]
  },
  {
   "cell_type": "code",
   "execution_count": 13,
   "id": "c934ee27",
   "metadata": {},
   "outputs": [
    {
     "name": "stdout",
     "output_type": "stream",
     "text": [
      "[Model(\n",
      "  (layer1): Sequential(\n",
      "    (0): Conv2d(3, 64, kernel_size=(5, 5), stride=(1, 1))\n",
      "    (1): ReLU(inplace=True)\n",
      "    (2): MaxPool2d(kernel_size=2, stride=2, padding=0, dilation=1, ceil_mode=False)\n",
      "  )\n",
      "  (layer2): Sequential(\n",
      "    (0): Conv2d(64, 30, kernel_size=(5, 5), stride=(1, 1))\n",
      "    (1): ReLU(inplace=True)\n",
      "    (2): MaxPool2d(kernel_size=2, stride=2, padding=0, dilation=1, ceil_mode=False)\n",
      "  )\n",
      "  (layer3): Sequential(\n",
      "    (0): Linear(in_features=750, out_features=10, bias=True)\n",
      "    (1): ReLU(inplace=True)\n",
      "  )\n",
      "), Sequential(\n",
      "  (0): Conv2d(3, 64, kernel_size=(5, 5), stride=(1, 1))\n",
      "  (1): ReLU(inplace=True)\n",
      "  (2): MaxPool2d(kernel_size=2, stride=2, padding=0, dilation=1, ceil_mode=False)\n",
      "), Conv2d(3, 64, kernel_size=(5, 5), stride=(1, 1)), ReLU(inplace=True), MaxPool2d(kernel_size=2, stride=2, padding=0, dilation=1, ceil_mode=False), Sequential(\n",
      "  (0): Conv2d(64, 30, kernel_size=(5, 5), stride=(1, 1))\n",
      "  (1): ReLU(inplace=True)\n",
      "  (2): MaxPool2d(kernel_size=2, stride=2, padding=0, dilation=1, ceil_mode=False)\n",
      "), Conv2d(64, 30, kernel_size=(5, 5), stride=(1, 1)), ReLU(inplace=True), MaxPool2d(kernel_size=2, stride=2, padding=0, dilation=1, ceil_mode=False), Sequential(\n",
      "  (0): Linear(in_features=750, out_features=10, bias=True)\n",
      "  (1): ReLU(inplace=True)\n",
      "), Linear(in_features=750, out_features=10, bias=True), ReLU(inplace=True)]\n"
     ]
    }
   ],
   "source": [
    "model = Model()\n",
    "print(list(model.modules()))"
   ]
  },
  {
   "cell_type": "markdown",
   "id": "5ae2f9b0",
   "metadata": {},
   "source": [
    "# Cifar10 Datasets"
   ]
  },
  {
   "cell_type": "code",
   "execution_count": 33,
   "id": "26ea089b",
   "metadata": {},
   "outputs": [
    {
     "data": {
      "text/plain": [
       "['airplane',\n",
       " 'automobile',\n",
       " 'bird',\n",
       " 'cat',\n",
       " 'deer',\n",
       " 'dog',\n",
       " 'frog',\n",
       " 'horse',\n",
       " 'ship',\n",
       " 'truck']"
      ]
     },
     "execution_count": 33,
     "metadata": {},
     "output_type": "execute_result"
    }
   ],
   "source": [
    "import os\n",
    "from path import path\n",
    "\n",
    "classes = sorted(entry.name for entry in os.scandir(path + \"/train\") if entry.is_dir())\n",
    "classes"
   ]
  },
  {
   "cell_type": "code",
   "execution_count": null,
   "id": "8db53804",
   "metadata": {},
   "outputs": [
    {
     "name": "stdout",
     "output_type": "stream",
     "text": [
      "Feature batch shape: torch.Size([3, 32, 32])\n",
      "Label num: 1\n"
     ]
    },
    {
     "data": {
      "image/png": "[encoded data removed]",
      "text/plain": [
       "<Figure size 640x480 with 1 Axes>"
      ]
     },
     "metadata": {},
     "output_type": "display_data"
    }
   ],
   "source": [
    "import matplotlib.pyplot as plt\n",
    "import path, Datasets\n",
    "train = Datasets.Datasets(path.path, train=True)\n",
    "\n",
    "train_features, train_labels = train[5001]\n",
    "label_list = ['airplane','automobile','bird','cat','deer','dog','frog','horse','ship','truck']\n",
    "\n",
    "print(f\"Feature batch shape: {train_features.size()}\")\n",
    "print(f\"Label num: {train_labels}\")\n",
    "img = train_features.permute(1, 2, 0)\n",
    "label = label_list[train_labels]\n",
    "plt.imshow(img)\n",
    "plt.title(label)\n",
    "plt.axis(\"off\")\n",
    "plt.show()"
   ]
  },
  {
   "cell_type": "markdown",
   "id": "4066c5dd",
   "metadata": {},
   "source": [
    "# Cifar10 training"
   ]
  },
  {
   "cell_type": "code",
   "execution_count": 15,
   "id": "9fc64dc1",
   "metadata": {},
   "outputs": [],
   "source": [
    "import os\n",
    "import torch\n",
    "from torch import nn\n",
    "from torch.utils.data import DataLoader\n",
    "from torchvision import datasets, transforms"
   ]
  },
  {
   "cell_type": "code",
   "execution_count": 16,
   "id": "24f0391c",
   "metadata": {},
   "outputs": [
    {
     "name": "stdout",
     "output_type": "stream",
     "text": [
      "Using cuda device\n"
     ]
    }
   ],
   "source": [
    "device = (\n",
    "    \"cuda\"\n",
    "    if torch.cuda.is_available()\n",
    "    else \"mps\"\n",
    "    if torch.backends.mps.is_available()\n",
    "    else \"cpu\"\n",
    ")\n",
    "print(f\"Using {device} device\")"
   ]
  },
  {
   "cell_type": "code",
   "execution_count": 18,
   "id": "58c2a6c3",
   "metadata": {},
   "outputs": [],
   "source": [
    "class Cifar10_Model1(nn.Module):\n",
    "    def __init__(self) -> None:\n",
    "        super(Cifar10_Model1, self).__init__()\n",
    "        self.flatten = nn.Flatten()\n",
    "        self.nn1 = nn.Sequential(\n",
    "            nn.Linear(3 * 32 * 32, 512),\n",
    "            nn.ReLU(),\n",
    "            nn.Linear(512, 128),\n",
    "            nn.ReLU(),\n",
    "            nn.Linear(128, 10)\n",
    "        )\n",
    "    def forward(self, x):\n",
    "        x = self.flatten(x)\n",
    "        x = self.nn1(x)\n",
    "        return x"
   ]
  },
  {
   "cell_type": "code",
   "execution_count": 19,
   "id": "34b0afaa",
   "metadata": {},
   "outputs": [
    {
     "name": "stdout",
     "output_type": "stream",
     "text": [
      "Cifar10_Model1(\n",
      "  (flatten): Flatten(start_dim=1, end_dim=-1)\n",
      "  (nn1): Sequential(\n",
      "    (0): Linear(in_features=3072, out_features=512, bias=True)\n",
      "    (1): ReLU()\n",
      "    (2): Linear(in_features=512, out_features=128, bias=True)\n",
      "    (3): ReLU()\n",
      "    (4): Linear(in_features=128, out_features=10, bias=True)\n",
      "  )\n",
      ")\n"
     ]
    }
   ],
   "source": [
    "model = Cifar10_Model1().to(device)\n",
    "print(model)"
   ]
  },
  {
   "cell_type": "code",
   "execution_count": 20,
   "id": "2abdf736",
   "metadata": {},
   "outputs": [
    {
     "name": "stdout",
     "output_type": "stream",
     "text": [
      "Predicted class: tensor([9], device='cuda:0')\n"
     ]
    }
   ],
   "source": [
    "import Datasets, path\n",
    "\n",
    "sample_x, label = Datasets.Datasets(\n",
    "    path.path,\n",
    "    True\n",
    ")[5001]\n",
    "sample_x = sample_x.to(\"cuda\").unsqueeze(0)\n",
    "\n",
    "logit = model(sample_x)\n",
    "pred_probab = nn.Softmax(dim=1)(logit)\n",
    "y_pred = pred_probab.argmax(1)\n",
    "print(f\"Predicted class: {y_pred}\")"
   ]
  },
  {
   "cell_type": "code",
   "execution_count": 60,
   "id": "b08be007",
   "metadata": {},
   "outputs": [
    {
     "name": "stdout",
     "output_type": "stream",
     "text": [
      "[Epoch 1] Loss: 1459.6530, Accuracy: 32.14%\n",
      "[Epoch 2] Loss: 1297.7981, Accuracy: 40.71%\n",
      "[Epoch 3] Loss: 1234.2752, Accuracy: 43.73%\n",
      "[Epoch 4] Loss: 1192.8147, Accuracy: 45.57%\n",
      "[Epoch 5] Loss: 1160.3119, Accuracy: 47.07%\n",
      "[Epoch 6] Loss: 1132.3255, Accuracy: 48.59%\n",
      "[Epoch 7] Loss: 1112.1953, Accuracy: 49.35%\n",
      "[Epoch 8] Loss: 1094.1637, Accuracy: 50.07%\n",
      "[Epoch 9] Loss: 1075.2854, Accuracy: 51.02%\n",
      "[Epoch 10] Loss: 1059.5040, Accuracy: 51.83%\n",
      "[Epoch 11] Loss: 1044.2893, Accuracy: 52.53%\n",
      "[Epoch 12] Loss: 1026.8717, Accuracy: 53.53%\n",
      "[Epoch 13] Loss: 1012.9167, Accuracy: 53.75%\n",
      "[Epoch 14] Loss: 1005.0864, Accuracy: 54.12%\n",
      "[Epoch 15] Loss: 989.1738, Accuracy: 54.98%\n",
      "[Epoch 16] Loss: 976.6665, Accuracy: 55.57%\n",
      "[Epoch 17] Loss: 959.7789, Accuracy: 56.19%\n",
      "[Epoch 18] Loss: 954.2420, Accuracy: 56.60%\n",
      "[Epoch 19] Loss: 943.1605, Accuracy: 56.74%\n",
      "[Epoch 20] Loss: 933.5286, Accuracy: 57.26%\n",
      "[Epoch 21] Loss: 922.2309, Accuracy: 57.83%\n",
      "[Epoch 22] Loss: 913.6948, Accuracy: 58.16%\n",
      "[Epoch 23] Loss: 903.9357, Accuracy: 58.69%\n",
      "[Epoch 24] Loss: 896.4193, Accuracy: 59.12%\n",
      "[Epoch 25] Loss: 884.6012, Accuracy: 59.61%\n",
      "[Epoch 26] Loss: 879.9614, Accuracy: 59.74%\n",
      "[Epoch 27] Loss: 868.5639, Accuracy: 60.29%\n",
      "[Epoch 28] Loss: 862.1788, Accuracy: 60.38%\n",
      "[Epoch 29] Loss: 853.6238, Accuracy: 60.84%\n",
      "[Epoch 30] Loss: 845.2432, Accuracy: 61.00%\n",
      "[Epoch 31] Loss: 837.3535, Accuracy: 61.41%\n",
      "[Epoch 32] Loss: 828.8868, Accuracy: 62.01%\n",
      "[Epoch 33] Loss: 820.9781, Accuracy: 62.39%\n",
      "[Epoch 34] Loss: 816.0144, Accuracy: 62.60%\n",
      "[Epoch 35] Loss: 812.6903, Accuracy: 62.54%\n",
      "[Epoch 36] Loss: 799.6585, Accuracy: 63.31%\n",
      "[Epoch 37] Loss: 795.1323, Accuracy: 63.39%\n",
      "[Epoch 38] Loss: 791.1446, Accuracy: 63.83%\n",
      "[Epoch 39] Loss: 780.1845, Accuracy: 63.88%\n",
      "[Epoch 40] Loss: 778.2786, Accuracy: 64.28%\n",
      "[Epoch 41] Loss: 769.7876, Accuracy: 64.67%\n",
      "[Epoch 42] Loss: 769.7875, Accuracy: 64.88%\n",
      "[Epoch 43] Loss: 758.7973, Accuracy: 65.00%\n",
      "[Epoch 44] Loss: 752.1299, Accuracy: 65.32%\n",
      "[Epoch 45] Loss: 745.4156, Accuracy: 65.77%\n",
      "[Epoch 46] Loss: 742.0657, Accuracy: 65.73%\n",
      "[Epoch 47] Loss: 735.8457, Accuracy: 66.32%\n",
      "[Epoch 48] Loss: 731.4271, Accuracy: 66.44%\n",
      "[Epoch 49] Loss: 725.4374, Accuracy: 66.85%\n",
      "[Epoch 50] Loss: 722.0139, Accuracy: 66.98%\n",
      "[Epoch 51] Loss: 721.8142, Accuracy: 66.64%\n",
      "[Epoch 52] Loss: 710.3174, Accuracy: 67.33%\n",
      "[Epoch 53] Loss: 706.3783, Accuracy: 67.64%\n",
      "[Epoch 54] Loss: 703.4844, Accuracy: 67.46%\n",
      "[Epoch 55] Loss: 698.1193, Accuracy: 67.81%\n",
      "[Epoch 56] Loss: 692.6280, Accuracy: 68.07%\n",
      "[Epoch 57] Loss: 693.4702, Accuracy: 68.10%\n",
      "[Epoch 58] Loss: 684.3123, Accuracy: 68.64%\n",
      "[Epoch 59] Loss: 681.5867, Accuracy: 68.67%\n",
      "[Epoch 60] Loss: 678.1055, Accuracy: 68.79%\n",
      "[Epoch 61] Loss: 665.1776, Accuracy: 69.36%\n",
      "[Epoch 62] Loss: 664.8406, Accuracy: 69.69%\n",
      "[Epoch 63] Loss: 660.0589, Accuracy: 69.59%\n",
      "[Epoch 64] Loss: 656.5080, Accuracy: 69.64%\n",
      "[Epoch 65] Loss: 651.8643, Accuracy: 69.92%\n",
      "[Epoch 66] Loss: 654.6370, Accuracy: 69.76%\n",
      "[Epoch 67] Loss: 642.1715, Accuracy: 70.41%\n",
      "[Epoch 68] Loss: 639.9922, Accuracy: 70.39%\n",
      "[Epoch 69] Loss: 642.1502, Accuracy: 70.52%\n",
      "[Epoch 70] Loss: 632.8505, Accuracy: 70.81%\n",
      "[Epoch 71] Loss: 632.3796, Accuracy: 70.97%\n",
      "[Epoch 72] Loss: 622.0323, Accuracy: 71.41%\n",
      "[Epoch 73] Loss: 618.2724, Accuracy: 71.58%\n",
      "[Epoch 74] Loss: 616.7334, Accuracy: 71.44%\n",
      "[Epoch 75] Loss: 610.0036, Accuracy: 71.78%\n",
      "[Epoch 76] Loss: 612.1472, Accuracy: 71.79%\n",
      "[Epoch 77] Loss: 603.6403, Accuracy: 72.13%\n",
      "[Epoch 78] Loss: 606.2787, Accuracy: 72.14%\n",
      "[Epoch 79] Loss: 598.7689, Accuracy: 72.37%\n",
      "[Epoch 80] Loss: 595.1453, Accuracy: 72.48%\n",
      "[Epoch 81] Loss: 594.4199, Accuracy: 72.52%\n",
      "[Epoch 82] Loss: 594.8418, Accuracy: 72.41%\n",
      "[Epoch 83] Loss: 599.2958, Accuracy: 72.47%\n",
      "[Epoch 84] Loss: 583.2688, Accuracy: 72.92%\n",
      "[Epoch 85] Loss: 582.6753, Accuracy: 73.18%\n",
      "[Epoch 86] Loss: 582.1630, Accuracy: 73.03%\n",
      "[Epoch 87] Loss: 572.5208, Accuracy: 73.52%\n",
      "[Epoch 88] Loss: 574.3581, Accuracy: 73.55%\n",
      "[Epoch 89] Loss: 569.9400, Accuracy: 73.84%\n",
      "[Epoch 90] Loss: 569.0092, Accuracy: 73.76%\n",
      "[Epoch 91] Loss: 566.9433, Accuracy: 73.72%\n",
      "[Epoch 92] Loss: 561.0282, Accuracy: 74.13%\n",
      "[Epoch 93] Loss: 561.8269, Accuracy: 74.17%\n",
      "[Epoch 94] Loss: 557.3827, Accuracy: 74.20%\n",
      "[Epoch 95] Loss: 549.2940, Accuracy: 74.76%\n",
      "[Epoch 96] Loss: 548.1235, Accuracy: 74.71%\n",
      "[Epoch 97] Loss: 550.5508, Accuracy: 74.42%\n",
      "[Epoch 98] Loss: 539.2843, Accuracy: 75.00%\n",
      "[Epoch 99] Loss: 545.7059, Accuracy: 74.79%\n",
      "[Epoch 100] Loss: 544.3713, Accuracy: 74.85%\n"
     ]
    }
   ],
   "source": [
    "import torch\n",
    "from torch.utils.data import DataLoader\n",
    "import torch.nn as nn\n",
    "import torch.optim as optim\n",
    "import Datasets, path\n",
    "\n",
    "# 1. 데이터셋 및 DataLoader\n",
    "train_dataset = Datasets.Datasets(path.path, train=True)\n",
    "train_loader = DataLoader(train_dataset, batch_size=64, shuffle=True, num_workers=8)\n",
    "\n",
    "# 2. 모델, 손실 함수, 옵티마이저 정의\n",
    "model = Cifar10_Model1().to(\"cuda\")\n",
    "criterion = nn.CrossEntropyLoss()\n",
    "optimizer = optim.Adam(model.parameters(), lr=1e-3)\n",
    "\n",
    "# 3. 학습 루프\n",
    "num_epochs = 100\n",
    "\n",
    "for epoch in range(num_epochs):\n",
    "    model.train()  # 학습 모드\n",
    "    total_loss = 0\n",
    "    correct = 0\n",
    "    total = 0\n",
    "    \n",
    "    for batch_x, batch_y in train_loader:\n",
    "        batch_x, batch_y = batch_x.to(\"cuda\"), batch_y.to(\"cuda\")\n",
    "\n",
    "        # Forward\n",
    "        outputs = model(batch_x)\n",
    "        loss = criterion(outputs, batch_y)\n",
    "\n",
    "        # Backward\n",
    "        optimizer.zero_grad()\n",
    "        loss.backward()\n",
    "        optimizer.step()\n",
    "\n",
    "        # 통계\n",
    "        total_loss += loss.item()\n",
    "        preds = outputs.argmax(dim=1)\n",
    "        correct += (preds == batch_y).sum().item()\n",
    "        total += batch_y.size(0)\n",
    "    \n",
    "    acc = correct / total * 100\n",
    "    print(f\"[Epoch {epoch+1}] Loss: {total_loss:.4f}, Accuracy: {acc:.2f}%\")\n"
   ]
  },
  {
   "cell_type": "code",
   "execution_count": 61,
   "id": "3a37788a",
   "metadata": {},
   "outputs": [],
   "source": [
    "torch.save(model.state_dict(), \"cifar10_model1.pt\")"
   ]
  },
  {
   "cell_type": "markdown",
   "id": "949c4034",
   "metadata": {},
   "source": [
    "## 모델 로드"
   ]
  },
  {
   "cell_type": "code",
   "execution_count": null,
   "id": "f910273c",
   "metadata": {},
   "outputs": [
    {
     "name": "stdout",
     "output_type": "stream",
     "text": [
      "Predicted class: tensor([2], device='cuda:0')\n"
     ]
    }
   ],
   "source": [
    "model = Cifar10_Model1().to(\"cuda\")\n",
    "model.load_state_dict(torch.load(\"cifar10_model1.pt\"))\n",
    "\n",
    "sample_x, label = Datasets.Datasets(\n",
    "    path.path,\n",
    "    True\n",
    ")[5001]\n",
    "sample_x = sample_x.to(\"cuda\").unsqueeze(0)\n",
    "\n",
    "logit = model(sample_x)\n",
    "pred_probab = nn.Softmax(dim=1)(logit)\n",
    "y_pred = pred_probab.argmax(1)\n",
    "print(f\"Predicted class: {y_pred}\")"
   ]
  },
  {
   "cell_type": "markdown",
   "id": "19a3b2dc",
   "metadata": {},
   "source": [
    "# CNN Model"
   ]
  },
  {
   "cell_type": "code",
   "execution_count": null,
   "id": "744002e9",
   "metadata": {},
   "outputs": [],
   "source": [
    "class CNN_Model(nn.Module):\n",
    "    def __init__(self) -> None:\n",
    "        super(CNN_Model, self).__init__()\n",
    "        self.cnn1 = nn.Sequential(\n",
    "            nn.Conv2d(in_channels=3, out_channels=3 * 128, kernel_size=3, padding=1),\n",
    "            nn.ReLU(),\n",
    "            nn.MaxPool2d(kernel_size=2, stride=2)\n",
    "        )\n",
    "        self.cnn2 = nn.Sequential(\n",
    "            nn.Conv2d(in_channels=3 * 128, out_channels=3 * 64, kernel_size=3, padding=1),\n",
    "            nn.ReLU(),\n",
    "            nn.MaxPool2d(kernel_size=2, stride=2)\n",
    "        )\n",
    "        self.cnn3 = nn.Sequential(\n",
    "            nn.Conv2d(in_channels=3 * 64, out_channels=3 * 32, kernel_size=3, padding=1),\n",
    "            nn.ReLU()\n",
    "        )\n",
    "        self.flatten = nn.Flatten()\n",
    "        self.nn1 = nn.Sequential(\n",
    "            nn.Linear(3 * 32 * 16 * 16, 512),\n",
    "            nn.ReLU(),\n",
    "            nn.Linear(512, 256),\n",
    "            nn.ReLU(),\n",
    "            nn.Linear(256, 10)\n",
    "        )\n",
    "    def forward(self, x):\n",
    "        x = self.cnn1(x)\n",
    "        x = self.cnn2(x)\n",
    "        x = self.flatten(x)\n",
    "        x = self.nn1(x)\n",
    "        return x"
   ]
  },
  {
   "cell_type": "code",
   "execution_count": 34,
   "id": "c66d03ce",
   "metadata": {},
   "outputs": [
    {
     "name": "stdout",
     "output_type": "stream",
     "text": [
      "CNN_Model(\n",
      "  (cnn1): Sequential(\n",
      "    (0): Conv2d(3, 96, kernel_size=(3, 3), stride=(1, 1), padding=(1, 1))\n",
      "    (1): ReLU()\n",
      "    (2): MaxPool2d(kernel_size=2, stride=2, padding=0, dilation=1, ceil_mode=False)\n",
      "  )\n",
      "  (cnn2): Sequential(\n",
      "    (0): Conv2d(96, 192, kernel_size=(3, 3), stride=(1, 1), padding=(1, 1))\n",
      "    (1): ReLU()\n",
      "  )\n",
      "  (flatten): Flatten(start_dim=1, end_dim=-1)\n",
      "  (nn1): Sequential(\n",
      "    (0): Linear(in_features=49152, out_features=512, bias=True)\n",
      "    (1): ReLU()\n",
      "    (2): Linear(in_features=512, out_features=128, bias=True)\n",
      "    (3): ReLU()\n",
      "    (4): Linear(in_features=128, out_features=10, bias=True)\n",
      "  )\n",
      ")\n"
     ]
    }
   ],
   "source": [
    "model = CNN_Model().to(device)\n",
    "print(model)"
   ]
  },
  {
   "cell_type": "code",
   "execution_count": 36,
   "id": "f6248ead",
   "metadata": {},
   "outputs": [],
   "source": [
    "from torch.utils.data import DataLoader\n",
    "import torch.optim as optim\n",
    "import os\n",
    "import Datasets, path\n",
    "\n",
    "num_workers = os.cpu_count() or 8\n",
    "\n",
    "# 1. 데이터셋 및 DataLoader\n",
    "train_dataset = Datasets.Datasets(path.path, train=True)\n",
    "train_loader = DataLoader(train_dataset, batch_size=64, shuffle=True, num_workers=num_workers)\n",
    "\n",
    "test_dataset = Datasets.Datasets(path.path, train=False)\n",
    "test_loader = DataLoader(test_dataset, batch_size=64, shuffle=True, num_workers=num_workers)\n",
    "\n",
    "# 2. 모델, 손실 함수, 옵티마이저 정의\n",
    "cnn_model = CNN_Model().to(\"cuda\")\n",
    "criterion = nn.CrossEntropyLoss()\n",
    "optimizer = optim.Adam(cnn_model.parameters(), lr=1e-3)"
   ]
  },
  {
   "cell_type": "code",
   "execution_count": 37,
   "id": "f466310e",
   "metadata": {},
   "outputs": [
    {
     "name": "stdout",
     "output_type": "stream",
     "text": [
      "[Epoch 1] Loss: 1143.1623, Accuracy: 46.56%\n",
      "[Epoch 2] Loss: 849.3837, Accuracy: 61.14%\n",
      "[Epoch 3] Loss: 707.9094, Accuracy: 67.79%\n",
      "[Epoch 4] Loss: 594.2706, Accuracy: 73.17%\n",
      "[Epoch 5] Loss: 486.7248, Accuracy: 78.04%\n",
      "[Epoch 6] Loss: 380.7477, Accuracy: 82.84%\n",
      "[Epoch 7] Loss: 286.5598, Accuracy: 87.14%\n",
      "[Epoch 8] Loss: 206.9957, Accuracy: 90.83%\n",
      "[Epoch 9] Loss: 152.1161, Accuracy: 93.10%\n",
      "[Epoch 10] Loss: 122.7611, Accuracy: 94.55%\n"
     ]
    }
   ],
   "source": [
    "import torch\n",
    "\n",
    "train_acc = []\n",
    "train_loss = []\n",
    "\n",
    "# 3. 학습 루프\n",
    "num_epochs = 10\n",
    "\n",
    "for epoch in range(num_epochs):\n",
    "    cnn_model.train()  # 학습 모드\n",
    "    total_loss = 0\n",
    "    correct = 0\n",
    "    total = 0\n",
    "    \n",
    "    for batch_x, batch_y in train_loader:\n",
    "        batch_x, batch_y = batch_x.to(\"cuda\"), batch_y.to(\"cuda\")\n",
    "\n",
    "        # Forward\n",
    "        outputs = cnn_model(batch_x)\n",
    "        loss = criterion(outputs, batch_y)\n",
    "\n",
    "        train_loss.append(loss)\n",
    "\n",
    "        # Backward\n",
    "        optimizer.zero_grad()\n",
    "        loss.backward()\n",
    "        optimizer.step()\n",
    "\n",
    "        # 통계\n",
    "        total_loss += loss.item()\n",
    "        preds = outputs.argmax(dim=1)\n",
    "        correct += (preds == batch_y).sum().item()\n",
    "        total += batch_y.size(0)\n",
    "        \n",
    "        \n",
    "    acc = correct / total * 100\n",
    "    train_acc.append(acc)\n",
    "    print(f\"[Epoch {epoch+1}] Loss: {total_loss:.4f}, Accuracy: {acc:.2f}%\")\n"
   ]
  },
  {
   "cell_type": "code",
   "execution_count": null,
   "id": "27f79ddf",
   "metadata": {},
   "outputs": [],
   "source": [
    "from torch import no_grad\n",
    "\n",
    "test_acc = []\n",
    "test_loss = []\n",
    "\n",
    "with no_grad():\n",
    "    for batch_x, batch_y in test_loader:\n",
    "        batch_x, batch_y = batch_x.to(\"cuda\"), batch_y.to(\"cuda\")\n",
    "        pred = cnn_model(batch_x)\n",
    "        loss = criterion(pred, batch_y)\n",
    "        test_loss.append(loss)\n",
    "        total_loss += loss.item()\n",
    "        preds = outputs.argmax()\n",
    "        correct += (preds == batch_y).sum().item()\n",
    "        total += batch_y.size(0)\n",
    "    \n",
    "    acc = correct / total * 100\n",
    "    test_acc.append(acc)\n",
    "    print(f\"model test result - loss : {total_loss: .4f}, Accuracy : {acc:.3f}\")"
   ]
  },
  {
   "cell_type": "code",
   "execution_count": null,
   "id": "9d6805ec",
   "metadata": {},
   "outputs": [],
   "source": [
    "torch.save(cnn_model.state_dict(), \"cifar10_model_acc_98+.pt\")"
   ]
  }
 ],
 "metadata": {
  "kernelspec": {
   "display_name": "face-models",
   "language": "python",
   "name": "python3"
  },
  "language_info": {
   "codemirror_mode": {
    "name": "ipython",
    "version": 3
   },
   "file_extension": ".py",
   "mimetype": "text/x-python",
   "name": "python",
   "nbconvert_exporter": "python",
   "pygments_lexer": "ipython3",
   "version": "3.13.7"
  }
 },
 "nbformat": 4,
 "nbformat_minor": 5
}
